{
 "cells": [
  {
   "cell_type": "markdown",
   "id": "49eff451",
   "metadata": {},
   "source": [
    "\n",
    "## Housing prices in Sydney Suburbs:\n",
    "\n",
    "### 1. Introduction and Problem Statement:\n",
    "\n",
    "For the purpose of this analysis, 3 datasets (sources mentioned at the end of the document) have been selected. The first dataset represents the historical prices of houses in the Sydney suburban regions. The second dataset represents the locations(latitude and longitude) of these houses and their suburb. The final dataset is the crime statistics for the suburban areas. With these information at our disposal, the following problem statement has been formulated for this portfolio.\n",
    "***\"Given the crime statisitics for a suburb, what is the relationship between the number of crime commited in a subrub and its influence on the average housing prices for the same suburb?\"*** . The goal, with this, is to see if crimes influence the housing prices in anyway (increases or decrease the price) and if it does, then observe how significant the correlation is.\n",
    "\n",
    "For achieving this, a model will be selected based on the analysis of the datasets, the performance of the model will be analyzed and necessary changes will be made according to its performance and finally an observation will be conducted on the findings of the model. All of the outlined steps will be carried out in various sections throughout this notebook. "
   ]
  },
  {
   "cell_type": "code",
   "execution_count": 192,
   "id": "2593247e",
   "metadata": {},
   "outputs": [],
   "source": [
    "#importing the libraries\n",
    "import numpy as np\n",
    "import pandas as pd\n",
    "import seaborn as sns \n",
    "import matplotlib.pyplot as plt\n",
    "from sklearn.model_selection import train_test_split\n",
    "from sklearn.preprocessing import StandardScaler\n",
    "from sklearn.linear_model import LinearRegression\n",
    "from sklearn.metrics import mean_squared_error, r2_score"
   ]
  },
  {
   "cell_type": "code",
   "execution_count": 155,
   "id": "cff71020",
   "metadata": {},
   "outputs": [],
   "source": [
    "#importing the datasets\n",
    "house_locations = pd.read_csv('files/sydney_suburbs.csv')\n",
    "house_prices = pd.read_csv('files/SydneyHousePrices.csv')\n",
    "suburb_crimestat = pd.read_csv('files/SuburbData2022.csv')"
   ]
  },
  {
   "cell_type": "markdown",
   "id": "5fd17212",
   "metadata": {},
   "source": [
    "### 2. Exploring the dataset:"
   ]
  },
  {
   "cell_type": "code",
   "execution_count": 156,
   "id": "354a89a2",
   "metadata": {},
   "outputs": [
    {
     "data": {
      "text/html": [
       "<div>\n",
       "<style scoped>\n",
       "    .dataframe tbody tr th:only-of-type {\n",
       "        vertical-align: middle;\n",
       "    }\n",
       "\n",
       "    .dataframe tbody tr th {\n",
       "        vertical-align: top;\n",
       "    }\n",
       "\n",
       "    .dataframe thead th {\n",
       "        text-align: right;\n",
       "    }\n",
       "</style>\n",
       "<table border=\"1\" class=\"dataframe\">\n",
       "  <thead>\n",
       "    <tr style=\"text-align: right;\">\n",
       "      <th></th>\n",
       "      <th>Date</th>\n",
       "      <th>Id</th>\n",
       "      <th>suburb</th>\n",
       "      <th>postalCode</th>\n",
       "      <th>sellPrice</th>\n",
       "      <th>bed</th>\n",
       "      <th>bath</th>\n",
       "      <th>car</th>\n",
       "      <th>propType</th>\n",
       "    </tr>\n",
       "  </thead>\n",
       "  <tbody>\n",
       "    <tr>\n",
       "      <th>0</th>\n",
       "      <td>2019-06-19</td>\n",
       "      <td>1</td>\n",
       "      <td>Avalon Beach</td>\n",
       "      <td>2107</td>\n",
       "      <td>1210000</td>\n",
       "      <td>4.0</td>\n",
       "      <td>2</td>\n",
       "      <td>2.0</td>\n",
       "      <td>house</td>\n",
       "    </tr>\n",
       "    <tr>\n",
       "      <th>1</th>\n",
       "      <td>2019-06-13</td>\n",
       "      <td>2</td>\n",
       "      <td>Avalon Beach</td>\n",
       "      <td>2107</td>\n",
       "      <td>2250000</td>\n",
       "      <td>4.0</td>\n",
       "      <td>3</td>\n",
       "      <td>4.0</td>\n",
       "      <td>house</td>\n",
       "    </tr>\n",
       "    <tr>\n",
       "      <th>2</th>\n",
       "      <td>2019-06-07</td>\n",
       "      <td>3</td>\n",
       "      <td>Whale Beach</td>\n",
       "      <td>2107</td>\n",
       "      <td>2920000</td>\n",
       "      <td>3.0</td>\n",
       "      <td>3</td>\n",
       "      <td>2.0</td>\n",
       "      <td>house</td>\n",
       "    </tr>\n",
       "    <tr>\n",
       "      <th>3</th>\n",
       "      <td>2019-05-28</td>\n",
       "      <td>4</td>\n",
       "      <td>Avalon Beach</td>\n",
       "      <td>2107</td>\n",
       "      <td>1530000</td>\n",
       "      <td>3.0</td>\n",
       "      <td>1</td>\n",
       "      <td>2.0</td>\n",
       "      <td>house</td>\n",
       "    </tr>\n",
       "    <tr>\n",
       "      <th>4</th>\n",
       "      <td>2019-05-22</td>\n",
       "      <td>5</td>\n",
       "      <td>Whale Beach</td>\n",
       "      <td>2107</td>\n",
       "      <td>8000000</td>\n",
       "      <td>5.0</td>\n",
       "      <td>4</td>\n",
       "      <td>4.0</td>\n",
       "      <td>house</td>\n",
       "    </tr>\n",
       "  </tbody>\n",
       "</table>\n",
       "</div>"
      ],
      "text/plain": [
       "         Date  Id        suburb  postalCode  sellPrice  bed  bath  car  \\\n",
       "0  2019-06-19   1  Avalon Beach        2107    1210000  4.0     2  2.0   \n",
       "1  2019-06-13   2  Avalon Beach        2107    2250000  4.0     3  4.0   \n",
       "2  2019-06-07   3   Whale Beach        2107    2920000  3.0     3  2.0   \n",
       "3  2019-05-28   4  Avalon Beach        2107    1530000  3.0     1  2.0   \n",
       "4  2019-05-22   5   Whale Beach        2107    8000000  5.0     4  4.0   \n",
       "\n",
       "  propType  \n",
       "0    house  \n",
       "1    house  \n",
       "2    house  \n",
       "3    house  \n",
       "4    house  "
      ]
     },
     "execution_count": 156,
     "metadata": {},
     "output_type": "execute_result"
    }
   ],
   "source": [
    "#viewing the house prices\n",
    "house_prices.head()"
   ]
  },
  {
   "cell_type": "code",
   "execution_count": 157,
   "id": "f5575ff1",
   "metadata": {},
   "outputs": [
    {
     "data": {
      "text/html": [
       "<div>\n",
       "<style scoped>\n",
       "    .dataframe tbody tr th:only-of-type {\n",
       "        vertical-align: middle;\n",
       "    }\n",
       "\n",
       "    .dataframe tbody tr th {\n",
       "        vertical-align: top;\n",
       "    }\n",
       "\n",
       "    .dataframe thead th {\n",
       "        text-align: right;\n",
       "    }\n",
       "</style>\n",
       "<table border=\"1\" class=\"dataframe\">\n",
       "  <thead>\n",
       "    <tr style=\"text-align: right;\">\n",
       "      <th></th>\n",
       "      <th>Suburb</th>\n",
       "      <th>Latitude</th>\n",
       "      <th>Longitude</th>\n",
       "    </tr>\n",
       "  </thead>\n",
       "  <tbody>\n",
       "    <tr>\n",
       "      <th>0</th>\n",
       "      <td>Abbotsbury</td>\n",
       "      <td>-33.869285</td>\n",
       "      <td>150.866703</td>\n",
       "    </tr>\n",
       "    <tr>\n",
       "      <th>1</th>\n",
       "      <td>Abbotsford</td>\n",
       "      <td>-33.850553</td>\n",
       "      <td>151.129759</td>\n",
       "    </tr>\n",
       "    <tr>\n",
       "      <th>2</th>\n",
       "      <td>Acacia Gardens</td>\n",
       "      <td>-33.732459</td>\n",
       "      <td>150.912532</td>\n",
       "    </tr>\n",
       "    <tr>\n",
       "      <th>3</th>\n",
       "      <td>Agnes Banks</td>\n",
       "      <td>-33.614508</td>\n",
       "      <td>150.711448</td>\n",
       "    </tr>\n",
       "    <tr>\n",
       "      <th>4</th>\n",
       "      <td>Airds</td>\n",
       "      <td>-34.090000</td>\n",
       "      <td>150.826111</td>\n",
       "    </tr>\n",
       "  </tbody>\n",
       "</table>\n",
       "</div>"
      ],
      "text/plain": [
       "           Suburb   Latitude   Longitude\n",
       "0      Abbotsbury -33.869285  150.866703\n",
       "1      Abbotsford -33.850553  151.129759\n",
       "2  Acacia Gardens -33.732459  150.912532\n",
       "3     Agnes Banks -33.614508  150.711448\n",
       "4           Airds -34.090000  150.826111"
      ]
     },
     "execution_count": 157,
     "metadata": {},
     "output_type": "execute_result"
    }
   ],
   "source": [
    "#viewing the suburb locations\n",
    "house_locations.head()\n"
   ]
  },
  {
   "cell_type": "code",
   "execution_count": 158,
   "id": "42a76b62",
   "metadata": {},
   "outputs": [
    {
     "data": {
      "text/html": [
       "<div>\n",
       "<style scoped>\n",
       "    .dataframe tbody tr th:only-of-type {\n",
       "        vertical-align: middle;\n",
       "    }\n",
       "\n",
       "    .dataframe tbody tr th {\n",
       "        vertical-align: top;\n",
       "    }\n",
       "\n",
       "    .dataframe thead th {\n",
       "        text-align: right;\n",
       "    }\n",
       "</style>\n",
       "<table border=\"1\" class=\"dataframe\">\n",
       "  <thead>\n",
       "    <tr style=\"text-align: right;\">\n",
       "      <th></th>\n",
       "      <th>Suburb</th>\n",
       "      <th>Offence category</th>\n",
       "      <th>Subcategory</th>\n",
       "      <th>Jan 1995</th>\n",
       "      <th>Feb 1995</th>\n",
       "      <th>Mar 1995</th>\n",
       "      <th>Apr 1995</th>\n",
       "      <th>May 1995</th>\n",
       "      <th>Jun 1995</th>\n",
       "      <th>Jul 1995</th>\n",
       "      <th>...</th>\n",
       "      <th>Mar 2022</th>\n",
       "      <th>Apr 2022</th>\n",
       "      <th>May 2022</th>\n",
       "      <th>Jun 2022</th>\n",
       "      <th>Jul 2022</th>\n",
       "      <th>Aug 2022</th>\n",
       "      <th>Sep 2022</th>\n",
       "      <th>Oct 2022</th>\n",
       "      <th>Nov 2022</th>\n",
       "      <th>Dec 2022</th>\n",
       "    </tr>\n",
       "  </thead>\n",
       "  <tbody>\n",
       "    <tr>\n",
       "      <th>0</th>\n",
       "      <td>Aarons Pass</td>\n",
       "      <td>Homicide</td>\n",
       "      <td>Murder *</td>\n",
       "      <td>0</td>\n",
       "      <td>0</td>\n",
       "      <td>0</td>\n",
       "      <td>0</td>\n",
       "      <td>0</td>\n",
       "      <td>0</td>\n",
       "      <td>0</td>\n",
       "      <td>...</td>\n",
       "      <td>0</td>\n",
       "      <td>0</td>\n",
       "      <td>0</td>\n",
       "      <td>0</td>\n",
       "      <td>0</td>\n",
       "      <td>0</td>\n",
       "      <td>0</td>\n",
       "      <td>0</td>\n",
       "      <td>0</td>\n",
       "      <td>0</td>\n",
       "    </tr>\n",
       "    <tr>\n",
       "      <th>1</th>\n",
       "      <td>Aarons Pass</td>\n",
       "      <td>Homicide</td>\n",
       "      <td>Attempted murder</td>\n",
       "      <td>0</td>\n",
       "      <td>0</td>\n",
       "      <td>0</td>\n",
       "      <td>0</td>\n",
       "      <td>0</td>\n",
       "      <td>0</td>\n",
       "      <td>0</td>\n",
       "      <td>...</td>\n",
       "      <td>0</td>\n",
       "      <td>0</td>\n",
       "      <td>0</td>\n",
       "      <td>0</td>\n",
       "      <td>0</td>\n",
       "      <td>0</td>\n",
       "      <td>0</td>\n",
       "      <td>0</td>\n",
       "      <td>0</td>\n",
       "      <td>0</td>\n",
       "    </tr>\n",
       "    <tr>\n",
       "      <th>2</th>\n",
       "      <td>Aarons Pass</td>\n",
       "      <td>Homicide</td>\n",
       "      <td>Murder accessory, conspiracy</td>\n",
       "      <td>0</td>\n",
       "      <td>0</td>\n",
       "      <td>0</td>\n",
       "      <td>0</td>\n",
       "      <td>0</td>\n",
       "      <td>0</td>\n",
       "      <td>0</td>\n",
       "      <td>...</td>\n",
       "      <td>0</td>\n",
       "      <td>0</td>\n",
       "      <td>0</td>\n",
       "      <td>0</td>\n",
       "      <td>0</td>\n",
       "      <td>0</td>\n",
       "      <td>0</td>\n",
       "      <td>0</td>\n",
       "      <td>0</td>\n",
       "      <td>0</td>\n",
       "    </tr>\n",
       "    <tr>\n",
       "      <th>3</th>\n",
       "      <td>Aarons Pass</td>\n",
       "      <td>Homicide</td>\n",
       "      <td>Manslaughter *</td>\n",
       "      <td>0</td>\n",
       "      <td>0</td>\n",
       "      <td>0</td>\n",
       "      <td>0</td>\n",
       "      <td>0</td>\n",
       "      <td>0</td>\n",
       "      <td>0</td>\n",
       "      <td>...</td>\n",
       "      <td>0</td>\n",
       "      <td>0</td>\n",
       "      <td>0</td>\n",
       "      <td>0</td>\n",
       "      <td>0</td>\n",
       "      <td>0</td>\n",
       "      <td>0</td>\n",
       "      <td>0</td>\n",
       "      <td>0</td>\n",
       "      <td>0</td>\n",
       "    </tr>\n",
       "    <tr>\n",
       "      <th>4</th>\n",
       "      <td>Aarons Pass</td>\n",
       "      <td>Assault</td>\n",
       "      <td>Domestic violence related assault</td>\n",
       "      <td>0</td>\n",
       "      <td>0</td>\n",
       "      <td>0</td>\n",
       "      <td>0</td>\n",
       "      <td>0</td>\n",
       "      <td>0</td>\n",
       "      <td>0</td>\n",
       "      <td>...</td>\n",
       "      <td>0</td>\n",
       "      <td>0</td>\n",
       "      <td>0</td>\n",
       "      <td>0</td>\n",
       "      <td>0</td>\n",
       "      <td>0</td>\n",
       "      <td>0</td>\n",
       "      <td>0</td>\n",
       "      <td>0</td>\n",
       "      <td>0</td>\n",
       "    </tr>\n",
       "  </tbody>\n",
       "</table>\n",
       "<p>5 rows × 339 columns</p>\n",
       "</div>"
      ],
      "text/plain": [
       "        Suburb Offence category                        Subcategory  Jan 1995  \\\n",
       "0  Aarons Pass         Homicide                           Murder *         0   \n",
       "1  Aarons Pass         Homicide                   Attempted murder         0   \n",
       "2  Aarons Pass         Homicide       Murder accessory, conspiracy         0   \n",
       "3  Aarons Pass         Homicide                     Manslaughter *         0   \n",
       "4  Aarons Pass          Assault  Domestic violence related assault         0   \n",
       "\n",
       "   Feb 1995  Mar 1995  Apr 1995  May 1995  Jun 1995  Jul 1995  ...  Mar 2022  \\\n",
       "0         0         0         0         0         0         0  ...         0   \n",
       "1         0         0         0         0         0         0  ...         0   \n",
       "2         0         0         0         0         0         0  ...         0   \n",
       "3         0         0         0         0         0         0  ...         0   \n",
       "4         0         0         0         0         0         0  ...         0   \n",
       "\n",
       "   Apr 2022  May 2022  Jun 2022  Jul 2022  Aug 2022  Sep 2022  Oct 2022  \\\n",
       "0         0         0         0         0         0         0         0   \n",
       "1         0         0         0         0         0         0         0   \n",
       "2         0         0         0         0         0         0         0   \n",
       "3         0         0         0         0         0         0         0   \n",
       "4         0         0         0         0         0         0         0   \n",
       "\n",
       "   Nov 2022  Dec 2022  \n",
       "0         0         0  \n",
       "1         0         0  \n",
       "2         0         0  \n",
       "3         0         0  \n",
       "4         0         0  \n",
       "\n",
       "[5 rows x 339 columns]"
      ]
     },
     "execution_count": 158,
     "metadata": {},
     "output_type": "execute_result"
    }
   ],
   "source": [
    "#viewing the suburb crime statistics\n",
    "suburb_crimestat.head()\n"
   ]
  },
  {
   "cell_type": "code",
   "execution_count": 159,
   "id": "38b73539",
   "metadata": {},
   "outputs": [
    {
     "name": "stdout",
     "output_type": "stream",
     "text": [
      "The shape of the suburb locations dataset is (680, 3)\n",
      "The shape of the housing price dataset is (199504, 9)\n",
      "The shape of the suburb crime statistics dataset is (278380, 339)\n"
     ]
    }
   ],
   "source": [
    "#viewing the data shapes\n",
    "\n",
    "print(f\"The shape of the suburb locations dataset is {house_locations.shape}\")\n",
    "print(f\"The shape of the housing price dataset is {house_prices.shape}\")\n",
    "print(f\"The shape of the suburb crime statistics dataset is {suburb_crimestat.shape}\")"
   ]
  },
  {
   "cell_type": "markdown",
   "id": "1bc7d5cc",
   "metadata": {},
   "source": [
    "#### a. Checking and handling null values:"
   ]
  },
  {
   "cell_type": "code",
   "execution_count": 160,
   "id": "80b42e26",
   "metadata": {},
   "outputs": [
    {
     "name": "stdout",
     "output_type": "stream",
     "text": [
      "Total null values for housing prices : Date              0\n",
      "Id                0\n",
      "suburb            0\n",
      "postalCode        0\n",
      "sellPrice         0\n",
      "bed             154\n",
      "bath              0\n",
      "car           18151\n",
      "propType          0\n",
      "dtype: int64\n",
      "Total null values for house suburub locations :Suburb       0\n",
      "Latitude     2\n",
      "Longitude    2\n",
      "dtype: int64\n",
      "Total null values for suburb crime statistics : Suburb              0\n",
      "Offence category    0\n",
      "Subcategory         0\n",
      "Jan 1995            0\n",
      "Feb 1995            0\n",
      "                   ..\n",
      "Aug 2022            0\n",
      "Sep 2022            0\n",
      "Oct 2022            0\n",
      "Nov 2022            0\n",
      "Dec 2022            0\n",
      "Length: 339, dtype: int64\n"
     ]
    }
   ],
   "source": [
    "#checking null values\n",
    "\n",
    "print(f\"Total null values for housing prices : {house_prices.isnull().sum()}\")\n",
    "print(f\"Total null values for house suburub locations :{house_locations.isnull().sum()}\")\n",
    "print(f\"Total null values for suburb crime statistics : {suburb_crimestat.isnull().sum()}\")\n"
   ]
  },
  {
   "cell_type": "markdown",
   "id": "9cd87d54",
   "metadata": {},
   "source": [
    "From the above result, it can be seen that atleast two datasets have null values. For housing prices, \"bed\" column has 154 null values whereas \"car\" column has 18151 null values. These need to be dealt with before we further analyze our data. \n",
    "\n",
    "**Car**: For this column, an assumption will be made that \"Car\" represents a parking spot within the housing area and not driveways. We will also assume that the numbers represent how many vehicles can fit in the spot. So, based on this assumption, we can conclude that the value 0 for the column would mean that the house has no parking spots available. Based on this conclusion, all the null values will then be replaced in this column with \"0\". "
   ]
  },
  {
   "cell_type": "code",
   "execution_count": 161,
   "id": "1fdb94d2",
   "metadata": {},
   "outputs": [],
   "source": [
    "house_prices['car'].fillna(0, inplace=True)"
   ]
  },
  {
   "cell_type": "markdown",
   "id": "ba947864",
   "metadata": {},
   "source": [
    "**Bed**: For this column we are going to assume that \"Bed\" represents the number of bedrooms in a house. Since a house usually always has a bedroom, it wouldn't be safe to assume that the null numeric values for this column represents \"0\" bedrooms. Instead, it will better to fill the column with median value of the column as median can be robust against outliers/extreme values. "
   ]
  },
  {
   "cell_type": "code",
   "execution_count": 162,
   "id": "4f9c8637",
   "metadata": {},
   "outputs": [],
   "source": [
    "house_prices['bed'].fillna(house_prices['bed'].median(), inplace=True)"
   ]
  },
  {
   "cell_type": "markdown",
   "id": "d240da00",
   "metadata": {},
   "source": [
    "For the crime statistics dataset, we can make one more check to make sure that none of the many columns present in the dataset have null values"
   ]
  },
  {
   "cell_type": "code",
   "execution_count": 163,
   "id": "6ba53e0d",
   "metadata": {},
   "outputs": [
    {
     "name": "stdout",
     "output_type": "stream",
     "text": [
      "0\n"
     ]
    }
   ],
   "source": [
    "print(np.sum(suburb_crimestat.isna().values))"
   ]
  },
  {
   "cell_type": "markdown",
   "id": "9608997b",
   "metadata": {},
   "source": [
    "From the result above, we can see that there are no null values for the crime statitstics dataset. "
   ]
  },
  {
   "cell_type": "markdown",
   "id": "8b368f25",
   "metadata": {},
   "source": [
    "#### b. Checking and handling outliers:\n",
    "\n",
    "Since the datasets might contain outliers, it is important to remove them because anomalous values directly affect the model's performance. To check for outliers, suitable statistical plots will be used. Once detected, based on the findings, suitable methodologies will be suggested to handle these anomalous findings. This will be done in the next section \"Analysis of the dataset\".\n"
   ]
  },
  {
   "cell_type": "markdown",
   "id": "05abb664",
   "metadata": {},
   "source": [
    "### 3. Analysis of the dataset:\n",
    "\n",
    "**a. Housing Prices Dataset:** Since the aim is to predict the average prices for the houses, the \"sellPrice\" column will be the top focus for this task as it represents the pricing history of the houses. Since the prices are numerical and we want to see if there are any outliers here, we will first create a boxplot and see if it is feasible for our dataset.\n"
   ]
  },
  {
   "cell_type": "code",
   "execution_count": 164,
   "id": "e64816d8",
   "metadata": {},
   "outputs": [
    {
     "data": {
      "text/html": [
       "<div>\n",
       "<style scoped>\n",
       "    .dataframe tbody tr th:only-of-type {\n",
       "        vertical-align: middle;\n",
       "    }\n",
       "\n",
       "    .dataframe tbody tr th {\n",
       "        vertical-align: top;\n",
       "    }\n",
       "\n",
       "    .dataframe thead th {\n",
       "        text-align: right;\n",
       "    }\n",
       "</style>\n",
       "<table border=\"1\" class=\"dataframe\">\n",
       "  <thead>\n",
       "    <tr style=\"text-align: right;\">\n",
       "      <th></th>\n",
       "      <th>Id</th>\n",
       "      <th>postalCode</th>\n",
       "      <th>sellPrice</th>\n",
       "      <th>bed</th>\n",
       "      <th>bath</th>\n",
       "      <th>car</th>\n",
       "    </tr>\n",
       "  </thead>\n",
       "  <tbody>\n",
       "    <tr>\n",
       "      <th>count</th>\n",
       "      <td>199504.00000</td>\n",
       "      <td>199504.000000</td>\n",
       "      <td>1.995040e+05</td>\n",
       "      <td>199504.00000</td>\n",
       "      <td>199504.000000</td>\n",
       "      <td>199504.000000</td>\n",
       "    </tr>\n",
       "    <tr>\n",
       "      <th>mean</th>\n",
       "      <td>99752.50000</td>\n",
       "      <td>2196.379155</td>\n",
       "      <td>1.269776e+06</td>\n",
       "      <td>3.51608</td>\n",
       "      <td>1.890669</td>\n",
       "      <td>1.760065</td>\n",
       "    </tr>\n",
       "    <tr>\n",
       "      <th>std</th>\n",
       "      <td>57591.98839</td>\n",
       "      <td>193.053467</td>\n",
       "      <td>6.948239e+06</td>\n",
       "      <td>1.06624</td>\n",
       "      <td>0.926001</td>\n",
       "      <td>1.154073</td>\n",
       "    </tr>\n",
       "    <tr>\n",
       "      <th>min</th>\n",
       "      <td>1.00000</td>\n",
       "      <td>2000.000000</td>\n",
       "      <td>1.000000e+00</td>\n",
       "      <td>1.00000</td>\n",
       "      <td>1.000000</td>\n",
       "      <td>0.000000</td>\n",
       "    </tr>\n",
       "    <tr>\n",
       "      <th>25%</th>\n",
       "      <td>49876.75000</td>\n",
       "      <td>2082.000000</td>\n",
       "      <td>7.200000e+05</td>\n",
       "      <td>3.00000</td>\n",
       "      <td>1.000000</td>\n",
       "      <td>1.000000</td>\n",
       "    </tr>\n",
       "    <tr>\n",
       "      <th>50%</th>\n",
       "      <td>99752.50000</td>\n",
       "      <td>2144.000000</td>\n",
       "      <td>9.850000e+05</td>\n",
       "      <td>3.00000</td>\n",
       "      <td>2.000000</td>\n",
       "      <td>2.000000</td>\n",
       "    </tr>\n",
       "    <tr>\n",
       "      <th>75%</th>\n",
       "      <td>149628.25000</td>\n",
       "      <td>2211.000000</td>\n",
       "      <td>1.475000e+06</td>\n",
       "      <td>4.00000</td>\n",
       "      <td>2.000000</td>\n",
       "      <td>2.000000</td>\n",
       "    </tr>\n",
       "    <tr>\n",
       "      <th>max</th>\n",
       "      <td>199504.00000</td>\n",
       "      <td>4878.000000</td>\n",
       "      <td>2.147484e+09</td>\n",
       "      <td>99.00000</td>\n",
       "      <td>99.000000</td>\n",
       "      <td>41.000000</td>\n",
       "    </tr>\n",
       "  </tbody>\n",
       "</table>\n",
       "</div>"
      ],
      "text/plain": [
       "                 Id     postalCode     sellPrice           bed           bath  \\\n",
       "count  199504.00000  199504.000000  1.995040e+05  199504.00000  199504.000000   \n",
       "mean    99752.50000    2196.379155  1.269776e+06       3.51608       1.890669   \n",
       "std     57591.98839     193.053467  6.948239e+06       1.06624       0.926001   \n",
       "min         1.00000    2000.000000  1.000000e+00       1.00000       1.000000   \n",
       "25%     49876.75000    2082.000000  7.200000e+05       3.00000       1.000000   \n",
       "50%     99752.50000    2144.000000  9.850000e+05       3.00000       2.000000   \n",
       "75%    149628.25000    2211.000000  1.475000e+06       4.00000       2.000000   \n",
       "max    199504.00000    4878.000000  2.147484e+09      99.00000      99.000000   \n",
       "\n",
       "                 car  \n",
       "count  199504.000000  \n",
       "mean        1.760065  \n",
       "std         1.154073  \n",
       "min         0.000000  \n",
       "25%         1.000000  \n",
       "50%         2.000000  \n",
       "75%         2.000000  \n",
       "max        41.000000  "
      ]
     },
     "execution_count": 164,
     "metadata": {},
     "output_type": "execute_result"
    }
   ],
   "source": [
    "house_prices.describe()"
   ]
  },
  {
   "cell_type": "markdown",
   "id": "3ba0c03b",
   "metadata": {},
   "source": [
    "From the above statistical summary, it can be seen that the max value present in the dataset is at 2.14 billion which can be regarded as on outlier since suburban homes fall in the range of millions. This value has increased the range as well as influenced the median of our dataset. We can further analyze if there are other outliers in our dataset using a boxplot or a scatter plot. Since we are dealing with large data with a very large range, we will use a scatter plot to analyze our data. "
   ]
  },
  {
   "cell_type": "code",
   "execution_count": 165,
   "id": "509640a7",
   "metadata": {
    "scrolled": false
   },
   "outputs": [
    {
     "data": {
      "image/png": "[encoded data removed]",
      "text/plain": [
       "<Figure size 640x480 with 1 Axes>"
      ]
     },
     "metadata": {},
     "output_type": "display_data"
    }
   ],
   "source": [
    "house_prices['Date'] = pd.to_datetime(house_prices['Date'])\n",
    "\n",
    "sns.scatterplot(data=house_prices, x='Date', y='sellPrice')\n",
    "plt.title('Sell Price vs Date')\n",
    "plt.show()"
   ]
  },
  {
   "cell_type": "markdown",
   "id": "99317a69",
   "metadata": {},
   "source": [
    "The scatter plot above clearly displays the extreme values, which are in billions. Meanwhile, most of the selling prices are concentrated below the 500 million mark, with a few being clsoe to the 500 million mark. With this information, we can define a boundary for labeling suitable data that aren't further away from the concentrated data points. Looking at the plot, most of the can be classified as extraneous and can be removed safely before training our model. \n",
    "\n",
    "For this, we will set our data-cutoff point or the threshold at around 200 million since most of the data points are concentrated around here. This will be done in the data pre-processing portion of the notebook.\n",
    "\n",
    "**b. Suburban crime statistics dataset**:\n",
    "The number of crimes committed in a suburb is going to be the predictor of the housing price. The dataset contains crimestatistics from a wide range of timespan, i.e, from January of 1995 to December of 2022."
   ]
  },
  {
   "cell_type": "code",
   "execution_count": 166,
   "id": "bfa9435f",
   "metadata": {},
   "outputs": [
    {
     "data": {
      "text/html": [
       "<div>\n",
       "<style scoped>\n",
       "    .dataframe tbody tr th:only-of-type {\n",
       "        vertical-align: middle;\n",
       "    }\n",
       "\n",
       "    .dataframe tbody tr th {\n",
       "        vertical-align: top;\n",
       "    }\n",
       "\n",
       "    .dataframe thead th {\n",
       "        text-align: right;\n",
       "    }\n",
       "</style>\n",
       "<table border=\"1\" class=\"dataframe\">\n",
       "  <thead>\n",
       "    <tr style=\"text-align: right;\">\n",
       "      <th></th>\n",
       "      <th>Suburb</th>\n",
       "      <th>Offence category</th>\n",
       "      <th>Subcategory</th>\n",
       "      <th>Jan 1995</th>\n",
       "      <th>Feb 1995</th>\n",
       "      <th>Mar 1995</th>\n",
       "      <th>Apr 1995</th>\n",
       "      <th>May 1995</th>\n",
       "      <th>Jun 1995</th>\n",
       "      <th>Jul 1995</th>\n",
       "      <th>...</th>\n",
       "      <th>Mar 2022</th>\n",
       "      <th>Apr 2022</th>\n",
       "      <th>May 2022</th>\n",
       "      <th>Jun 2022</th>\n",
       "      <th>Jul 2022</th>\n",
       "      <th>Aug 2022</th>\n",
       "      <th>Sep 2022</th>\n",
       "      <th>Oct 2022</th>\n",
       "      <th>Nov 2022</th>\n",
       "      <th>Dec 2022</th>\n",
       "    </tr>\n",
       "  </thead>\n",
       "  <tbody>\n",
       "    <tr>\n",
       "      <th>0</th>\n",
       "      <td>Aarons Pass</td>\n",
       "      <td>Homicide</td>\n",
       "      <td>Murder *</td>\n",
       "      <td>0</td>\n",
       "      <td>0</td>\n",
       "      <td>0</td>\n",
       "      <td>0</td>\n",
       "      <td>0</td>\n",
       "      <td>0</td>\n",
       "      <td>0</td>\n",
       "      <td>...</td>\n",
       "      <td>0</td>\n",
       "      <td>0</td>\n",
       "      <td>0</td>\n",
       "      <td>0</td>\n",
       "      <td>0</td>\n",
       "      <td>0</td>\n",
       "      <td>0</td>\n",
       "      <td>0</td>\n",
       "      <td>0</td>\n",
       "      <td>0</td>\n",
       "    </tr>\n",
       "    <tr>\n",
       "      <th>1</th>\n",
       "      <td>Aarons Pass</td>\n",
       "      <td>Homicide</td>\n",
       "      <td>Attempted murder</td>\n",
       "      <td>0</td>\n",
       "      <td>0</td>\n",
       "      <td>0</td>\n",
       "      <td>0</td>\n",
       "      <td>0</td>\n",
       "      <td>0</td>\n",
       "      <td>0</td>\n",
       "      <td>...</td>\n",
       "      <td>0</td>\n",
       "      <td>0</td>\n",
       "      <td>0</td>\n",
       "      <td>0</td>\n",
       "      <td>0</td>\n",
       "      <td>0</td>\n",
       "      <td>0</td>\n",
       "      <td>0</td>\n",
       "      <td>0</td>\n",
       "      <td>0</td>\n",
       "    </tr>\n",
       "    <tr>\n",
       "      <th>2</th>\n",
       "      <td>Aarons Pass</td>\n",
       "      <td>Homicide</td>\n",
       "      <td>Murder accessory, conspiracy</td>\n",
       "      <td>0</td>\n",
       "      <td>0</td>\n",
       "      <td>0</td>\n",
       "      <td>0</td>\n",
       "      <td>0</td>\n",
       "      <td>0</td>\n",
       "      <td>0</td>\n",
       "      <td>...</td>\n",
       "      <td>0</td>\n",
       "      <td>0</td>\n",
       "      <td>0</td>\n",
       "      <td>0</td>\n",
       "      <td>0</td>\n",
       "      <td>0</td>\n",
       "      <td>0</td>\n",
       "      <td>0</td>\n",
       "      <td>0</td>\n",
       "      <td>0</td>\n",
       "    </tr>\n",
       "    <tr>\n",
       "      <th>3</th>\n",
       "      <td>Aarons Pass</td>\n",
       "      <td>Homicide</td>\n",
       "      <td>Manslaughter *</td>\n",
       "      <td>0</td>\n",
       "      <td>0</td>\n",
       "      <td>0</td>\n",
       "      <td>0</td>\n",
       "      <td>0</td>\n",
       "      <td>0</td>\n",
       "      <td>0</td>\n",
       "      <td>...</td>\n",
       "      <td>0</td>\n",
       "      <td>0</td>\n",
       "      <td>0</td>\n",
       "      <td>0</td>\n",
       "      <td>0</td>\n",
       "      <td>0</td>\n",
       "      <td>0</td>\n",
       "      <td>0</td>\n",
       "      <td>0</td>\n",
       "      <td>0</td>\n",
       "    </tr>\n",
       "    <tr>\n",
       "      <th>4</th>\n",
       "      <td>Aarons Pass</td>\n",
       "      <td>Assault</td>\n",
       "      <td>Domestic violence related assault</td>\n",
       "      <td>0</td>\n",
       "      <td>0</td>\n",
       "      <td>0</td>\n",
       "      <td>0</td>\n",
       "      <td>0</td>\n",
       "      <td>0</td>\n",
       "      <td>0</td>\n",
       "      <td>...</td>\n",
       "      <td>0</td>\n",
       "      <td>0</td>\n",
       "      <td>0</td>\n",
       "      <td>0</td>\n",
       "      <td>0</td>\n",
       "      <td>0</td>\n",
       "      <td>0</td>\n",
       "      <td>0</td>\n",
       "      <td>0</td>\n",
       "      <td>0</td>\n",
       "    </tr>\n",
       "  </tbody>\n",
       "</table>\n",
       "<p>5 rows × 339 columns</p>\n",
       "</div>"
      ],
      "text/plain": [
       "        Suburb Offence category                        Subcategory  Jan 1995  \\\n",
       "0  Aarons Pass         Homicide                           Murder *         0   \n",
       "1  Aarons Pass         Homicide                   Attempted murder         0   \n",
       "2  Aarons Pass         Homicide       Murder accessory, conspiracy         0   \n",
       "3  Aarons Pass         Homicide                     Manslaughter *         0   \n",
       "4  Aarons Pass          Assault  Domestic violence related assault         0   \n",
       "\n",
       "   Feb 1995  Mar 1995  Apr 1995  May 1995  Jun 1995  Jul 1995  ...  Mar 2022  \\\n",
       "0         0         0         0         0         0         0  ...         0   \n",
       "1         0         0         0         0         0         0  ...         0   \n",
       "2         0         0         0         0         0         0  ...         0   \n",
       "3         0         0         0         0         0         0  ...         0   \n",
       "4         0         0         0         0         0         0  ...         0   \n",
       "\n",
       "   Apr 2022  May 2022  Jun 2022  Jul 2022  Aug 2022  Sep 2022  Oct 2022  \\\n",
       "0         0         0         0         0         0         0         0   \n",
       "1         0         0         0         0         0         0         0   \n",
       "2         0         0         0         0         0         0         0   \n",
       "3         0         0         0         0         0         0         0   \n",
       "4         0         0         0         0         0         0         0   \n",
       "\n",
       "   Nov 2022  Dec 2022  \n",
       "0         0         0  \n",
       "1         0         0  \n",
       "2         0         0  \n",
       "3         0         0  \n",
       "4         0         0  \n",
       "\n",
       "[5 rows x 339 columns]"
      ]
     },
     "execution_count": 166,
     "metadata": {},
     "output_type": "execute_result"
    }
   ],
   "source": [
    "suburb_crimestat.head()"
   ]
  },
  {
   "cell_type": "markdown",
   "id": "2daf5ebe",
   "metadata": {},
   "source": [
    "Since the focus is on the frequency of crime more than the crime itself, the crimes will be totaled regardless of the category. This gives an overall view of the crime statistics in a suburb. "
   ]
  },
  {
   "cell_type": "code",
   "execution_count": 167,
   "id": "11b46810",
   "metadata": {},
   "outputs": [
    {
     "data": {
      "text/html": [
       "<div>\n",
       "<style scoped>\n",
       "    .dataframe tbody tr th:only-of-type {\n",
       "        vertical-align: middle;\n",
       "    }\n",
       "\n",
       "    .dataframe tbody tr th {\n",
       "        vertical-align: top;\n",
       "    }\n",
       "\n",
       "    .dataframe thead th {\n",
       "        text-align: right;\n",
       "    }\n",
       "</style>\n",
       "<table border=\"1\" class=\"dataframe\">\n",
       "  <thead>\n",
       "    <tr style=\"text-align: right;\">\n",
       "      <th></th>\n",
       "      <th>Suburb</th>\n",
       "      <th>Total Crimes</th>\n",
       "    </tr>\n",
       "  </thead>\n",
       "  <tbody>\n",
       "    <tr>\n",
       "      <th>0</th>\n",
       "      <td>Aarons Pass</td>\n",
       "      <td>90</td>\n",
       "    </tr>\n",
       "    <tr>\n",
       "      <th>1</th>\n",
       "      <td>Abbotsbury</td>\n",
       "      <td>4019</td>\n",
       "    </tr>\n",
       "    <tr>\n",
       "      <th>2</th>\n",
       "      <td>Abbotsford</td>\n",
       "      <td>6436</td>\n",
       "    </tr>\n",
       "    <tr>\n",
       "      <th>3</th>\n",
       "      <td>Abercrombie</td>\n",
       "      <td>685</td>\n",
       "    </tr>\n",
       "    <tr>\n",
       "      <th>4</th>\n",
       "      <td>Abercrombie River</td>\n",
       "      <td>95</td>\n",
       "    </tr>\n",
       "  </tbody>\n",
       "</table>\n",
       "</div>"
      ],
      "text/plain": [
       "              Suburb  Total Crimes\n",
       "0        Aarons Pass            90\n",
       "1         Abbotsbury          4019\n",
       "2         Abbotsford          6436\n",
       "3        Abercrombie           685\n",
       "4  Abercrombie River            95"
      ]
     },
     "execution_count": 167,
     "metadata": {},
     "output_type": "execute_result"
    }
   ],
   "source": [
    "total_crimes = suburb_crimestat.groupby('Suburb').sum(numeric_only=True).sum(axis=1).reset_index()\n",
    "total_crimes.columns = ['Suburb', 'Total Crimes']\n",
    "total_crimes.head()"
   ]
  },
  {
   "cell_type": "code",
   "execution_count": 168,
   "id": "8721819d",
   "metadata": {},
   "outputs": [
    {
     "data": {
      "text/html": [
       "<div>\n",
       "<style scoped>\n",
       "    .dataframe tbody tr th:only-of-type {\n",
       "        vertical-align: middle;\n",
       "    }\n",
       "\n",
       "    .dataframe tbody tr th {\n",
       "        vertical-align: top;\n",
       "    }\n",
       "\n",
       "    .dataframe thead th {\n",
       "        text-align: right;\n",
       "    }\n",
       "</style>\n",
       "<table border=\"1\" class=\"dataframe\">\n",
       "  <thead>\n",
       "    <tr style=\"text-align: right;\">\n",
       "      <th></th>\n",
       "      <th>Total Crimes</th>\n",
       "    </tr>\n",
       "  </thead>\n",
       "  <tbody>\n",
       "    <tr>\n",
       "      <th>count</th>\n",
       "      <td>4490.000000</td>\n",
       "    </tr>\n",
       "    <tr>\n",
       "      <th>mean</th>\n",
       "      <td>4241.006459</td>\n",
       "    </tr>\n",
       "    <tr>\n",
       "      <th>std</th>\n",
       "      <td>15132.590628</td>\n",
       "    </tr>\n",
       "    <tr>\n",
       "      <th>min</th>\n",
       "      <td>1.000000</td>\n",
       "    </tr>\n",
       "    <tr>\n",
       "      <th>25%</th>\n",
       "      <td>47.000000</td>\n",
       "    </tr>\n",
       "    <tr>\n",
       "      <th>50%</th>\n",
       "      <td>198.500000</td>\n",
       "    </tr>\n",
       "    <tr>\n",
       "      <th>75%</th>\n",
       "      <td>1878.000000</td>\n",
       "    </tr>\n",
       "    <tr>\n",
       "      <th>max</th>\n",
       "      <td>384899.000000</td>\n",
       "    </tr>\n",
       "  </tbody>\n",
       "</table>\n",
       "</div>"
      ],
      "text/plain": [
       "        Total Crimes\n",
       "count    4490.000000\n",
       "mean     4241.006459\n",
       "std     15132.590628\n",
       "min         1.000000\n",
       "25%        47.000000\n",
       "50%       198.500000\n",
       "75%      1878.000000\n",
       "max    384899.000000"
      ]
     },
     "execution_count": 168,
     "metadata": {},
     "output_type": "execute_result"
    }
   ],
   "source": [
    "total_crimes.describe()"
   ]
  },
  {
   "cell_type": "markdown",
   "id": "0bd9ef53",
   "metadata": {},
   "source": [
    "### 4. Data preprocessing:\n",
    "\n",
    "Based on the analysis above, the data needs to be processed before the training phase. After the data has been cleaned, it will then be used to train a suitable model.\n",
    "\n",
    "**a. Handling outliers from the housing prices dataset**:\n",
    "\n",
    "For this dataset, the cutoff value was identified to be 200 million in the analysis step. Based on this new threshold, only selling prices below this value will be kept and everything else will be discarded. "
   ]
  },
  {
   "cell_type": "code",
   "execution_count": 169,
   "id": "d1433461",
   "metadata": {
    "scrolled": false
   },
   "outputs": [
    {
     "data": {
      "image/png": "[encoded data removed]",
      "text/plain": [
       "<Figure size 640x480 with 1 Axes>"
      ]
     },
     "metadata": {},
     "output_type": "display_data"
    }
   ],
   "source": [
    "#setting a cut-off value for the selling prices using boolean indexing\n",
    "limit = 2e9\n",
    "house_prices = house_prices[house_prices['sellPrice']<limit]\n",
    "sns.scatterplot(data=house_prices, x='Date', y='sellPrice')\n",
    "plt.title('Sell Price v/s Years')\n",
    "plt.show()"
   ]
  },
  {
   "cell_type": "markdown",
   "id": "861cab2f",
   "metadata": {},
   "source": [
    "With the range of the dataset shortened by removing extreme values, the data can be better visualized from the above scatter plot. Our new range is between around 1 million to 40 million which seems to be a realistic trend of housing prices in sydney suburbs. \n",
    "A boxplot can be plotted to further visualize the dataset"
   ]
  },
  {
   "cell_type": "code",
   "execution_count": 170,
   "id": "becfd78f",
   "metadata": {},
   "outputs": [
    {
     "data": {
      "text/plain": [
       "<Axes: xlabel='sellPrice'>"
      ]
     },
     "execution_count": 170,
     "metadata": {},
     "output_type": "execute_result"
    },
    {
     "data": {
      "image/png": "[encoded data removed]",
      "text/plain": [
       "<Figure size 640x480 with 1 Axes>"
      ]
     },
     "metadata": {},
     "output_type": "display_data"
    }
   ],
   "source": [
    "sns.boxplot(x=house_prices['sellPrice'])"
   ]
  },
  {
   "cell_type": "markdown",
   "id": "778f03db",
   "metadata": {},
   "source": [
    "The box plot seems to suggest that any prices above around 1.3 millions are outliers. While this seems to be the case, in Sydney, it is fairly reasonable to see the prices go beyond what is normally expected. It isn't uncommon to have houses jump in prices close to 40 million rather than stay at the range of under 5 million. Big mansions also fall under the category of houses, which have high price estimations. Therefore,  we will make the assumption that these values are not outliers and based on this assumption, the values will not be removed.\n",
    "\n",
    "**b. Averaging the housing prices for the suburbs**:\n",
    "\n",
    "The goal is to see the relationship between the average housing prices in the suburbs with the crime statistics. So, the selling prices need to be averaged for each suburb based on the year. Since the prices are in millions, standard scaler is used to scale down the magnitude of the values. "
   ]
  },
  {
   "cell_type": "code",
   "execution_count": 227,
   "id": "e536fc5d",
   "metadata": {},
   "outputs": [
    {
     "data": {
      "text/html": [
       "<div>\n",
       "<style scoped>\n",
       "    .dataframe tbody tr th:only-of-type {\n",
       "        vertical-align: middle;\n",
       "    }\n",
       "\n",
       "    .dataframe tbody tr th {\n",
       "        vertical-align: top;\n",
       "    }\n",
       "\n",
       "    .dataframe thead th {\n",
       "        text-align: right;\n",
       "    }\n",
       "</style>\n",
       "<table border=\"1\" class=\"dataframe\">\n",
       "  <thead>\n",
       "    <tr style=\"text-align: right;\">\n",
       "      <th></th>\n",
       "      <th>Suburb</th>\n",
       "      <th>Year</th>\n",
       "      <th>sellPrice</th>\n",
       "    </tr>\n",
       "  </thead>\n",
       "  <tbody>\n",
       "    <tr>\n",
       "      <th>0</th>\n",
       "      <td>Abbotsbury</td>\n",
       "      <td>2011</td>\n",
       "      <td>-0.434368</td>\n",
       "    </tr>\n",
       "    <tr>\n",
       "      <th>1</th>\n",
       "      <td>Abbotsbury</td>\n",
       "      <td>2014</td>\n",
       "      <td>-0.185660</td>\n",
       "    </tr>\n",
       "    <tr>\n",
       "      <th>2</th>\n",
       "      <td>Abbotsbury</td>\n",
       "      <td>2015</td>\n",
       "      <td>-0.238450</td>\n",
       "    </tr>\n",
       "    <tr>\n",
       "      <th>3</th>\n",
       "      <td>Abbotsbury</td>\n",
       "      <td>2016</td>\n",
       "      <td>-0.259361</td>\n",
       "    </tr>\n",
       "    <tr>\n",
       "      <th>4</th>\n",
       "      <td>Abbotsbury</td>\n",
       "      <td>2017</td>\n",
       "      <td>-0.170013</td>\n",
       "    </tr>\n",
       "  </tbody>\n",
       "</table>\n",
       "</div>"
      ],
      "text/plain": [
       "       Suburb  Year  sellPrice\n",
       "0  Abbotsbury  2011  -0.434368\n",
       "1  Abbotsbury  2014  -0.185660\n",
       "2  Abbotsbury  2015  -0.238450\n",
       "3  Abbotsbury  2016  -0.259361\n",
       "4  Abbotsbury  2017  -0.170013"
      ]
     },
     "execution_count": 227,
     "metadata": {},
     "output_type": "execute_result"
    }
   ],
   "source": [
    "house_price_avg = house_prices.groupby(['suburb', house_prices['Date'].dt.year])['sellPrice'].mean().reset_index()\n",
    "house_price_avg = house_price_avg.rename(columns={\"Date\": \"Year\", \"suburb\": \"Suburb\"})\n",
    "\n",
    "#scaling down the prices\n",
    "standard_price = StandardScaler()\n",
    "house_price_avg['sellPrice'] = standard_price.fit_transform(house_price_avg['sellPrice'].values.reshape(-1,1))\n",
    "house_price_avg.head()"
   ]
  },
  {
   "cell_type": "markdown",
   "id": "a5146fc7",
   "metadata": {},
   "source": [
    "**c. Comibining the average prices and total crime statistics data**: \n",
    "\n",
    "Since most of the preprocessing of the data before training has been completed, the final version of the data will be combined into a single dataframe which will then be split into training and testing dataset later on. The feature columns, i.e, total crime and year, will also be transformed using standard scaler to remain consistent with the scaling of the selling price label."
   ]
  },
  {
   "cell_type": "code",
   "execution_count": 228,
   "id": "ac1cc4ba",
   "metadata": {},
   "outputs": [
    {
     "data": {
      "text/html": [
       "<div>\n",
       "<style scoped>\n",
       "    .dataframe tbody tr th:only-of-type {\n",
       "        vertical-align: middle;\n",
       "    }\n",
       "\n",
       "    .dataframe tbody tr th {\n",
       "        vertical-align: top;\n",
       "    }\n",
       "\n",
       "    .dataframe thead th {\n",
       "        text-align: right;\n",
       "    }\n",
       "</style>\n",
       "<table border=\"1\" class=\"dataframe\">\n",
       "  <thead>\n",
       "    <tr style=\"text-align: right;\">\n",
       "      <th></th>\n",
       "      <th>Suburb</th>\n",
       "      <th>Year</th>\n",
       "      <th>sellPrice</th>\n",
       "      <th>Total Crimes</th>\n",
       "    </tr>\n",
       "  </thead>\n",
       "  <tbody>\n",
       "    <tr>\n",
       "      <th>0</th>\n",
       "      <td>Abbotsbury</td>\n",
       "      <td>-0.750091</td>\n",
       "      <td>-0.434368</td>\n",
       "      <td>-0.423812</td>\n",
       "    </tr>\n",
       "    <tr>\n",
       "      <th>1</th>\n",
       "      <td>Abbotsbury</td>\n",
       "      <td>0.048689</td>\n",
       "      <td>-0.185660</td>\n",
       "      <td>-0.423812</td>\n",
       "    </tr>\n",
       "    <tr>\n",
       "      <th>2</th>\n",
       "      <td>Abbotsbury</td>\n",
       "      <td>0.314949</td>\n",
       "      <td>-0.238450</td>\n",
       "      <td>-0.423812</td>\n",
       "    </tr>\n",
       "    <tr>\n",
       "      <th>3</th>\n",
       "      <td>Abbotsbury</td>\n",
       "      <td>0.581209</td>\n",
       "      <td>-0.259361</td>\n",
       "      <td>-0.423812</td>\n",
       "    </tr>\n",
       "    <tr>\n",
       "      <th>4</th>\n",
       "      <td>Abbotsbury</td>\n",
       "      <td>0.847469</td>\n",
       "      <td>-0.170013</td>\n",
       "      <td>-0.423812</td>\n",
       "    </tr>\n",
       "  </tbody>\n",
       "</table>\n",
       "</div>"
      ],
      "text/plain": [
       "       Suburb      Year  sellPrice  Total Crimes\n",
       "0  Abbotsbury -0.750091  -0.434368     -0.423812\n",
       "1  Abbotsbury  0.048689  -0.185660     -0.423812\n",
       "2  Abbotsbury  0.314949  -0.238450     -0.423812\n",
       "3  Abbotsbury  0.581209  -0.259361     -0.423812\n",
       "4  Abbotsbury  0.847469  -0.170013     -0.423812"
      ]
     },
     "execution_count": 228,
     "metadata": {},
     "output_type": "execute_result"
    }
   ],
   "source": [
    "standard_feature = StandardScaler()\n",
    "combined_data = pd.merge(house_price_avg, total_crimes, on = ['Suburb'])\n",
    "combined_data[['Total Crimes','Year']] = standard_feature.fit_transform(combined_data[['Total Crimes','Year']])\n",
    "\n",
    "combined_data.head()"
   ]
  },
  {
   "cell_type": "markdown",
   "id": "932b25c4",
   "metadata": {},
   "source": [
    "### 5. Selecting the features,labels and model:\n",
    "\n",
    "Based on our analysis, sell price and year seems to have a non-linear relationship. Similarly, a scatterplot for selling price and total crimes can be made to see what sort of relationship exists."
   ]
  },
  {
   "cell_type": "code",
   "execution_count": 217,
   "id": "b81266e2",
   "metadata": {},
   "outputs": [
    {
     "data": {
      "image/png": "[encoded data removed]",
      "text/plain": [
       "<Figure size 640x480 with 1 Axes>"
      ]
     },
     "metadata": {},
     "output_type": "display_data"
    }
   ],
   "source": [
    "sns.scatterplot(data=combined_data, x='Total Crimes', y='sellPrice')\n",
    "plt.title('Crimes v/s Selling Price')\n",
    "plt.show()"
   ]
  },
  {
   "cell_type": "markdown",
   "id": "aa7872cc",
   "metadata": {},
   "source": [
    "The relationship seems to be non-linear for crimes and selling price. The correlation matrix for the dataset is given below"
   ]
  },
  {
   "cell_type": "code",
   "execution_count": 229,
   "id": "e3870dfe",
   "metadata": {},
   "outputs": [
    {
     "data": {
      "image/png": "[encoded data removed]",
      "text/plain": [
       "<Figure size 640x480 with 1 Axes>"
      ]
     },
     "metadata": {},
     "output_type": "display_data"
    }
   ],
   "source": [
    "sns.scatterplot(data=combined_data, x='Total Crimes', y='sellPrice')\n",
    "plt.title('Crimes v/s Selling Price')\n",
    "plt.show()"
   ]
  },
  {
   "cell_type": "code",
   "execution_count": 230,
   "id": "ba7bc50c",
   "metadata": {},
   "outputs": [
    {
     "data": {
      "text/html": [
       "<div>\n",
       "<style scoped>\n",
       "    .dataframe tbody tr th:only-of-type {\n",
       "        vertical-align: middle;\n",
       "    }\n",
       "\n",
       "    .dataframe tbody tr th {\n",
       "        vertical-align: top;\n",
       "    }\n",
       "\n",
       "    .dataframe thead th {\n",
       "        text-align: right;\n",
       "    }\n",
       "</style>\n",
       "<table border=\"1\" class=\"dataframe\">\n",
       "  <thead>\n",
       "    <tr style=\"text-align: right;\">\n",
       "      <th></th>\n",
       "      <th>Year</th>\n",
       "      <th>sellPrice</th>\n",
       "      <th>Total Crimes</th>\n",
       "    </tr>\n",
       "  </thead>\n",
       "  <tbody>\n",
       "    <tr>\n",
       "      <th>Year</th>\n",
       "      <td>1.000000</td>\n",
       "      <td>0.185044</td>\n",
       "      <td>-0.020254</td>\n",
       "    </tr>\n",
       "    <tr>\n",
       "      <th>sellPrice</th>\n",
       "      <td>0.185044</td>\n",
       "      <td>1.000000</td>\n",
       "      <td>-0.069423</td>\n",
       "    </tr>\n",
       "    <tr>\n",
       "      <th>Total Crimes</th>\n",
       "      <td>-0.020254</td>\n",
       "      <td>-0.069423</td>\n",
       "      <td>1.000000</td>\n",
       "    </tr>\n",
       "  </tbody>\n",
       "</table>\n",
       "</div>"
      ],
      "text/plain": [
       "                  Year  sellPrice  Total Crimes\n",
       "Year          1.000000   0.185044     -0.020254\n",
       "sellPrice     0.185044   1.000000     -0.069423\n",
       "Total Crimes -0.020254  -0.069423      1.000000"
      ]
     },
     "execution_count": 230,
     "metadata": {},
     "output_type": "execute_result"
    }
   ],
   "source": [
    "combined_data.corr(numeric_only = True)"
   ]
  },
  {
   "cell_type": "markdown",
   "id": "d686fd96",
   "metadata": {},
   "source": [
    "The selling price seems to have a positive correlation with year while with total crimes, it seems to have a negative correlation as expected. A real world interpretation/assumption would suggest that prices increase yearly whereas crime rates negatively influence the price estimation of houses in a suburb. \n",
    "\n",
    "Now, the features year and the total crimes will be selected while the selling price will be the label."
   ]
  },
  {
   "cell_type": "code",
   "execution_count": 231,
   "id": "b95f633b",
   "metadata": {},
   "outputs": [],
   "source": [
    "features = combined_data[['Total Crimes','Year']]\n",
    "label = combined_data['sellPrice']"
   ]
  },
  {
   "cell_type": "markdown",
   "id": "65f5a24f",
   "metadata": {},
   "source": [
    "Since there is non-linear relationship between selling price/crimes and selling price/year, a multi regression model would be the best choice here. The dataset fails traditional regressional model criteria, i.e, the dataset doesn't exhibit linearity. Thus, multi regression model is used."
   ]
  },
  {
   "cell_type": "markdown",
   "id": "ed274979",
   "metadata": {},
   "source": [
    "### 6. Test/Train splitting of data: \n",
    "\n",
    "For the purpose of training the model, 80 % of the data will be used for training and 20 % will be used for testing.\n"
   ]
  },
  {
   "cell_type": "code",
   "execution_count": 232,
   "id": "467a3c6f",
   "metadata": {},
   "outputs": [],
   "source": [
    "#splitting the data into test/train\n",
    "feature_train, feature_test, label_train, label_test = train_test_split(features, label, test_size=0.2, random_state=140)"
   ]
  },
  {
   "cell_type": "markdown",
   "id": "d20f1390",
   "metadata": {},
   "source": [
    "### 7. Training the model:\n",
    "\n",
    "With the train/test data ready, the multiregressional model can now be trained.\n"
   ]
  },
  {
   "cell_type": "code",
   "execution_count": 233,
   "id": "123dc0b1",
   "metadata": {},
   "outputs": [
    {
     "data": {
      "text/html": [
       "<style>#sk-container-id-22 {color: black;background-color: white;}#sk-container-id-22 pre{padding: 0;}#sk-container-id-22 div.sk-toggleable {background-color: white;}#sk-container-id-22 label.sk-toggleable__label {cursor: pointer;display: block;width: 100%;margin-bottom: 0;padding: 0.3em;box-sizing: border-box;text-align: center;}#sk-container-id-22 label.sk-toggleable__label-arrow:before {content: \"▸\";float: left;margin-right: 0.25em;color: #696969;}#sk-container-id-22 label.sk-toggleable__label-arrow:hover:before {color: black;}#sk-container-id-22 div.sk-estimator:hover label.sk-toggleable__label-arrow:before {color: black;}#sk-container-id-22 div.sk-toggleable__content {max-height: 0;max-width: 0;overflow: hidden;text-align: left;background-color: #f0f8ff;}#sk-container-id-22 div.sk-toggleable__content pre {margin: 0.2em;color: black;border-radius: 0.25em;background-color: #f0f8ff;}#sk-container-id-22 input.sk-toggleable__control:checked~div.sk-toggleable__content {max-height: 200px;max-width: 100%;overflow: auto;}#sk-container-id-22 input.sk-toggleable__control:checked~label.sk-toggleable__label-arrow:before {content: \"▾\";}#sk-container-id-22 div.sk-estimator input.sk-toggleable__control:checked~label.sk-toggleable__label {background-color: #d4ebff;}#sk-container-id-22 div.sk-label input.sk-toggleable__control:checked~label.sk-toggleable__label {background-color: #d4ebff;}#sk-container-id-22 input.sk-hidden--visually {border: 0;clip: rect(1px 1px 1px 1px);clip: rect(1px, 1px, 1px, 1px);height: 1px;margin: -1px;overflow: hidden;padding: 0;position: absolute;width: 1px;}#sk-container-id-22 div.sk-estimator {font-family: monospace;background-color: #f0f8ff;border: 1px dotted black;border-radius: 0.25em;box-sizing: border-box;margin-bottom: 0.5em;}#sk-container-id-22 div.sk-estimator:hover {background-color: #d4ebff;}#sk-container-id-22 div.sk-parallel-item::after {content: \"\";width: 100%;border-bottom: 1px solid gray;flex-grow: 1;}#sk-container-id-22 div.sk-label:hover label.sk-toggleable__label {background-color: #d4ebff;}#sk-container-id-22 div.sk-serial::before {content: \"\";position: absolute;border-left: 1px solid gray;box-sizing: border-box;top: 0;bottom: 0;left: 50%;z-index: 0;}#sk-container-id-22 div.sk-serial {display: flex;flex-direction: column;align-items: center;background-color: white;padding-right: 0.2em;padding-left: 0.2em;position: relative;}#sk-container-id-22 div.sk-item {position: relative;z-index: 1;}#sk-container-id-22 div.sk-parallel {display: flex;align-items: stretch;justify-content: center;background-color: white;position: relative;}#sk-container-id-22 div.sk-item::before, #sk-container-id-22 div.sk-parallel-item::before {content: \"\";position: absolute;border-left: 1px solid gray;box-sizing: border-box;top: 0;bottom: 0;left: 50%;z-index: -1;}#sk-container-id-22 div.sk-parallel-item {display: flex;flex-direction: column;z-index: 1;position: relative;background-color: white;}#sk-container-id-22 div.sk-parallel-item:first-child::after {align-self: flex-end;width: 50%;}#sk-container-id-22 div.sk-parallel-item:last-child::after {align-self: flex-start;width: 50%;}#sk-container-id-22 div.sk-parallel-item:only-child::after {width: 0;}#sk-container-id-22 div.sk-dashed-wrapped {border: 1px dashed gray;margin: 0 0.4em 0.5em 0.4em;box-sizing: border-box;padding-bottom: 0.4em;background-color: white;}#sk-container-id-22 div.sk-label label {font-family: monospace;font-weight: bold;display: inline-block;line-height: 1.2em;}#sk-container-id-22 div.sk-label-container {text-align: center;}#sk-container-id-22 div.sk-container {/* jupyter's `normalize.less` sets `[hidden] { display: none; }` but bootstrap.min.css set `[hidden] { display: none !important; }` so we also need the `!important` here to be able to override the default hidden behavior on the sphinx rendered scikit-learn.org. See: https://github.com/scikit-learn/scikit-learn/issues/21755 */display: inline-block !important;position: relative;}#sk-container-id-22 div.sk-text-repr-fallback {display: none;}</style><div id=\"sk-container-id-22\" class=\"sk-top-container\"><div class=\"sk-text-repr-fallback\"><pre>LinearRegression()</pre><b>In a Jupyter environment, please rerun this cell to show the HTML representation or trust the notebook. <br />On GitHub, the HTML representation is unable to render, please try loading this page with nbviewer.org.</b></div><div class=\"sk-container\" hidden><div class=\"sk-item\"><div class=\"sk-estimator sk-toggleable\"><input class=\"sk-toggleable__control sk-hidden--visually\" id=\"sk-estimator-id-22\" type=\"checkbox\" checked><label for=\"sk-estimator-id-22\" class=\"sk-toggleable__label sk-toggleable__label-arrow\">LinearRegression</label><div class=\"sk-toggleable__content\"><pre>LinearRegression()</pre></div></div></div></div></div>"
      ],
      "text/plain": [
       "LinearRegression()"
      ]
     },
     "execution_count": 233,
     "metadata": {},
     "output_type": "execute_result"
    }
   ],
   "source": [
    "multi_model = LinearRegression()\n",
    "\n",
    "#fitting the training data\n",
    "\n",
    "multi_model.fit(feature_train, label_train)\n"
   ]
  },
  {
   "cell_type": "code",
   "execution_count": 234,
   "id": "898219fa",
   "metadata": {},
   "outputs": [],
   "source": [
    "#predicting the selling price\n",
    "price_prediction = multi_model.predict(feature_test)"
   ]
  },
  {
   "cell_type": "markdown",
   "id": "f04d61b6",
   "metadata": {},
   "source": [
    "### 8. Evaluating the model:\n",
    "\n",
    "To evaluate the model, it's Mean Squared Error(MSE), its root and R2 score will be observed."
   ]
  },
  {
   "cell_type": "code",
   "execution_count": 235,
   "id": "4c942844",
   "metadata": {},
   "outputs": [
    {
     "name": "stdout",
     "output_type": "stream",
     "text": [
      "The mean squared error is: 0.8228260626224885\n",
      "The R2 score is: 0.0497878721604873\n",
      "The root mean squared error is : 0.9070976036912943\n"
     ]
    }
   ],
   "source": [
    "mse = mean_squared_error(label_test, price_prediction)\n",
    "rsq = r2_score(label_test, price_prediction)\n",
    "\n",
    "print(f\"The mean squared error is: {mse}\")\n",
    "print(f\"The R2 score is: {rsq}\")\n",
    "print(f\"The root mean squared error is : {np.sqrt(mse)}\")"
   ]
  },
  {
   "cell_type": "markdown",
   "id": "0aed9863",
   "metadata": {},
   "source": [
    "#### Analysis of the error metrics:\n",
    "\n",
    "**MSE**: The MSE score of 0.82 is means that the predicted value and the actual value are not that far off. \n",
    "\n",
    "**R2**: The R2 score of 0.049 is a bit lower. This could be due to the lack of complex features/low quantity of features during training. \n",
    "\n",
    "**Root MSE**: The Root MSE is 0.9, which, just like MSE, indicates that the predicted values are only off by about 1 units. "
   ]
  },
  {
   "cell_type": "markdown",
   "id": "b0e4a8bc",
   "metadata": {},
   "source": [
    "#### Model Summary:"
   ]
  },
  {
   "cell_type": "code",
   "execution_count": 236,
   "id": "6ddb56bc",
   "metadata": {},
   "outputs": [
    {
     "name": "stdout",
     "output_type": "stream",
     "text": [
      "The intercept: 0.013139427971540033\n",
      "The coefficients: [-0.06747665  0.17830173]\n"
     ]
    }
   ],
   "source": [
    "print(\"The intercept:\", multi_model.intercept_)\n",
    "print(\"The coefficients:\", multi_model.coef_)"
   ]
  },
  {
   "cell_type": "markdown",
   "id": "1b58c478",
   "metadata": {},
   "source": [
    "#### Residual analysis:"
   ]
  },
  {
   "cell_type": "code",
   "execution_count": 241,
   "id": "cdaf0a71",
   "metadata": {},
   "outputs": [
    {
     "data": {
      "image/png": "[encoded data removed]",
      "text/plain": [
       "<Figure size 640x480 with 1 Axes>"
      ]
     },
     "metadata": {},
     "output_type": "display_data"
    }
   ],
   "source": [
    "plt.hist(label_test-price_prediction, bins=30)\n",
    "plt.title('Histogram of Residuals')\n",
    "plt.xlabel('Residual Value')\n",
    "plt.ylabel('Count')\n",
    "plt.show()"
   ]
  },
  {
   "cell_type": "code",
   "execution_count": 247,
   "id": "9ee31217",
   "metadata": {},
   "outputs": [
    {
     "data": {
      "image/png": "[encoded data removed]",
      "text/plain": [
       "<Figure size 640x480 with 1 Axes>"
      ]
     },
     "metadata": {},
     "output_type": "display_data"
    }
   ],
   "source": [
    "plt.scatter(price_prediction, label_test-price_prediction)\n",
    "plt.axhline(y=0, color='r', linestyle='--')\n",
    "plt.title('Residuals vs. Predicted Values')\n",
    "plt.xlabel('Predicted Values')\n",
    "plt.ylabel('Residuals')\n",
    "plt.show()"
   ]
  },
  {
   "cell_type": "markdown",
   "id": "7c2169ee",
   "metadata": {},
   "source": [
    "Looking at the residual charts, it can be seen that the histogram is skewed and the scatter plot is almost non linear. This could mean that while the model had a low error metrics, it still is making big errors. The expected histogram would be a somewhat normal chart\n",
    "\n",
    "Also, the scatter plot shows that there is some non-linearity in the prediction. This could be because the features are less complex and few in number."
   ]
  },
  {
   "cell_type": "markdown",
   "id": "871ce0a5",
   "metadata": {},
   "source": [
    "### 7. Summary and conclusion:\n",
    "\n",
    "Looking at the output of our model, we can say that there is some relationship between the housing prices and the crime statistics. They are negatively correlated meaning housing prices go down when crimes go up. \n",
    "\n",
    "However, the model used could have done a better job at making predictions. It still is making big errors when it does so and it isn't encapsulating a linear relationship between the features and labels. In the future, this can be mitigated by using better and complex features, making changes to the data preprocessing steps and by also exploring different models which might be best suited for these dataset. "
   ]
  },
  {
   "cell_type": "markdown",
   "id": "aa8140a6",
   "metadata": {},
   "source": [
    "### Sources:\n",
    "\n",
    "Hoang, N. (Year Published). Sydney Housing Price 2000-2019 [Dataset]. Kaggle. Available at: https://www.kaggle.com/code/hoangnhu/sydney-housing-price-2000-2019/input?select=sydney_suburbs.csv [Accessed: 10/15/2023].\n",
    "\n",
    "Bureau of Crime Statistics and Research. Quarterly Recorded Crime Data Set by Suburb [Dataset]. NSW Government Data. Available at: https://data.nsw.gov.au/data/dataset/crime-data-by-offence [Accessed: 10/15/2023].\n"
   ]
  }
 ],
 "metadata": {
  "kernelspec": {
   "display_name": "Python 3 (ipykernel)",
   "language": "python",
   "name": "python3"
  },
  "language_info": {
   "codemirror_mode": {
    "name": "ipython",
    "version": 3
   },
   "file_extension": ".py",
   "mimetype": "text/x-python",
   "name": "python",
   "nbconvert_exporter": "python",
   "pygments_lexer": "ipython3",
   "version": "3.11.3"
  }
 },
 "nbformat": 4,
 "nbformat_minor": 5
}
